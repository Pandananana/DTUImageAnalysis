{
 "cells": [
  {
   "cell_type": "markdown",
   "metadata": {},
   "source": [
    "# Exercise 1"
   ]
  },
  {
   "cell_type": "markdown",
   "metadata": {},
   "source": [
    "Atan(opp/adj) finds the angle between the opposite and the adjacent side in a right triangle"
   ]
  },
  {
   "cell_type": "code",
   "execution_count": 5,
   "metadata": {},
   "outputs": [
    {
     "name": "stdout",
     "output_type": "stream",
     "text": [
      "Angle in degrees: 16.69924423399362\n"
     ]
    }
   ],
   "source": [
    "import math\n",
    "a=10\n",
    "b=3\n",
    "\n",
    "phi = math.atan2(b, a)\n",
    "phi_deg = math.degrees(phi)\n",
    "\n",
    "print(\"Angle in degrees:\", phi_deg)"
   ]
  },
  {
   "cell_type": "markdown",
   "metadata": {},
   "source": [
    "# Exercise 2"
   ]
  },
  {
   "cell_type": "code",
   "execution_count": 6,
   "metadata": {},
   "outputs": [],
   "source": [
    "def camera_b_distance(f, g):\n",
    "    \"\"\"\n",
    "    camera_b_distance returns the distance (b) where the CCD should be placed\n",
    "    when the object distance (g) and the focal length (f) are given\n",
    "    :param f: Focal length\n",
    "    :param g: Object distance\n",
    "    :return: b, the distance where the CCD should be placed\n",
    "    \"\"\"\n",
    "    return (1 / (1 / f - 1 / g))"
   ]
  },
  {
   "cell_type": "code",
   "execution_count": 7,
   "metadata": {},
   "outputs": [
    {
     "name": "stdout",
     "output_type": "stream",
     "text": [
      "Object distance (g): 100.0 mm, CCD distance (b): 17.647058823529413 mm\n",
      "Object distance (g): 1000 mm, CCD distance (b): 15.228426395939087 mm\n",
      "Object distance (g): 5000 mm, CCD distance (b): 15.045135406218657 mm\n",
      "Object distance (g): 15000 mm, CCD distance (b): 15.015015015015017 mm\n"
     ]
    }
   ],
   "source": [
    "g_m = [0.1, 1, 5, 15]\n",
    "g_mm = [x * 1000 for x in g_m]\n",
    "f_mm = 15\n",
    "\n",
    "for g in g_mm:\n",
    "    b = camera_b_distance(f_mm, g)\n",
    "    print(\"Object distance (g):\", g, \"mm, CCD distance (b):\", b, \"mm\")"
   ]
  },
  {
   "cell_type": "markdown",
   "metadata": {},
   "source": [
    "When the object distance increases the CCD distance nears the focal length"
   ]
  },
  {
   "cell_type": "markdown",
   "metadata": {},
   "source": [
    "# Exercise 3"
   ]
  },
  {
   "cell_type": "code",
   "execution_count": 8,
   "metadata": {},
   "outputs": [
    {
     "name": "stdout",
     "output_type": "stream",
     "text": [
      "1: Distance from lens:  5.005005005005005 mm\n",
      "2: Thomas height on CCD:  1.801801801801802 mm\n",
      "3: Pixel dimensions:  0.01 mm x 0.01 mm\n",
      "4: Thomas pixel height:  181 pixels\n",
      "5: Horizontal field of view:  65.1864430737312 degrees\n",
      "6: Vertical field of view:  51.23729915893342 degrees\n"
     ]
    }
   ],
   "source": [
    "thomas_height_mm = 1.8 * 1000  # height in mm\n",
    "thomas_g_mm = 5 * 1000  # object distance in mm\n",
    "f_mm = 5\n",
    "\n",
    "# Question 1\n",
    "b = camera_b_distance(f_mm, thomas_g_mm)\n",
    "\n",
    "# Question 2\n",
    "phi_thomas = math.atan2(thomas_height_mm, thomas_g_mm)\n",
    "thomas_B_mm = b * math.tan(phi_thomas)\n",
    "\n",
    "# Question 3\n",
    "pixels_x = 640\n",
    "pixels_y = 480\n",
    "sensor_width_mm = 6.4\n",
    "sensor_height_mm = 4.8\n",
    "pixel_width_mm = sensor_width_mm / pixels_x\n",
    "pixel_height_mm = sensor_height_mm / pixels_y\n",
    "\n",
    "# Question 4\n",
    "thomas_pixel_height = math.ceil(thomas_B_mm / pixel_height_mm)\n",
    "\n",
    "# Question 5\n",
    "phi_horizontal_deg = 2 * math.degrees( math.atan2((sensor_width_mm / 2) , b ))\n",
    "\n",
    "# Question 6\n",
    "phi_vertical_deg = 2 * math.degrees( math.atan2((sensor_height_mm / 2) , b ))\n",
    "\n",
    "\n",
    "\n",
    "print(\"1: Distance from lens: \", b, \"mm\")\n",
    "print(\"2: Thomas height on CCD: \", thomas_B_mm, \"mm\")\n",
    "print(\"3: Pixel dimensions: \", pixel_width_mm, \"mm x\", pixel_height_mm, \"mm\")\n",
    "print(\"4: Thomas pixel height: \", thomas_pixel_height, \"pixels\")\n",
    "print(\"5: Horizontal field of view: \", phi_horizontal_deg, \"degrees\")\n",
    "print(\"6: Vertical field of view: \", phi_vertical_deg, \"degrees\")"
   ]
  }
 ],
 "metadata": {
  "kernelspec": {
   "display_name": "course02502",
   "language": "python",
   "name": "python3"
  },
  "language_info": {
   "codemirror_mode": {
    "name": "ipython",
    "version": 3
   },
   "file_extension": ".py",
   "mimetype": "text/x-python",
   "name": "python",
   "nbconvert_exporter": "python",
   "pygments_lexer": "ipython3",
   "version": "3.11.9"
  }
 },
 "nbformat": 4,
 "nbformat_minor": 2
}
